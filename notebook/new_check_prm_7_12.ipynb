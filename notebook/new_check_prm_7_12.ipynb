{
 "cells": [
  {
   "cell_type": "code",
   "execution_count": 1,
   "metadata": {},
   "outputs": [],
   "source": [
    "import pandas as pd\n",
    "import numpy as np\n",
    "import matplotlib.pyplot as plt\n",
    "from scipy.special import comb\n",
    "import random"
   ]
  },
  {
   "cell_type": "code",
   "execution_count": 2,
   "metadata": {},
   "outputs": [],
   "source": [
    "def delta (theta, a, b, c):\n",
    "    return ((1+b)/((c**(theta))*((a**(-theta))+b)))"
   ]
  },
  {
   "cell_type": "markdown",
   "metadata": {},
   "source": [
    "### Forward\n",
    "- u,d に一様乱数で誤差をつける.(-0.2<ε<0.2)\n",
    "- probも変化させるか"
   ]
  },
  {
   "cell_type": "code",
   "execution_count": 12,
   "metadata": {},
   "outputs": [],
   "source": [
    "def forward(N, theta, u, d, p, default_x):\n",
    "\n",
    "    random.seed(123)\n",
    "\n",
    "    q = (1-d)/(u-d)\n",
    "    a = ((1-p)/p)*(q/(1-q))\n",
    "    b = (1-q)/q\n",
    "    c = (1-p)/(1-q)\n",
    "\n",
    "    stock = []\n",
    "    times = []\n",
    "    up = []\n",
    "    down = []\n",
    "    \n",
    "    prob = []\n",
    "    \n",
    "    for i in range(N+1):\n",
    "        stock.append([])\n",
    "        up.append([])\n",
    "        down.append([])\n",
    "        times.append(i)\n",
    "        for j in range(0,N+1):\n",
    "            stock[i].append([])\n",
    "        for k in range(i):\n",
    "            up[i].append(u+(random.random()*(-(2/5))+0.2))\n",
    "            down[i].append(d+(random.random()*(-(2/5))+0.2))\n",
    "    for i in range(N+1):\n",
    "        for j in range(N+1):\n",
    "            stock[i][0] = i\n",
    "            stock[i][1] = times[0:i+1]\n",
    "            stock[i][2] = times[i::-1]\n",
    "            stock[i][3] = times[0:i+1]\n",
    "            stock[i][4] = theta\n",
    "            stock[i][5] = up[i]\n",
    "            stock[i][6] = down[i]\n",
    "            stock[i][7] = p\n",
    "            stock[i][8] = list(map(lambda x: 0 if x==0 else x, times[0:i+1]))\n",
    "            stock[i][9] = list(map(lambda x: 0 if x==0 else x, times[i::-1]))\n",
    "            #price\n",
    "            #stock[i][10] = list(map(lambda x, y: default_x if x==0 and y==0 else (default_x*x)+(default_x*y) if x==0 or y==0 else (default_x*x)*(default_x*y), stock[i][8], stock[i][9]))\n",
    "            stock[i][10] = list(map(lambda k, l, m, n: default_x if m==0 and n==0 else (m)+(n), stock[i][5], stock[i][6], stock[i][8], stock[i][9]))\n",
    "            #U_0\n",
    "            stock[i][11] = list(map(lambda x: ((1-(1/theta))**(-1))*(x**(1-(1/theta))), stock[i][10]))\n",
    "            #I_0\n",
    "            #stock[i][10] = list(map(lambda x: (x**(-1/theta))**(-1), stock[i][8]))\n",
    "            #I_1\n",
    "            #stock[i][11] = list(map(lambda x: (1+b)/((c**theta)*((a**(-theta))+b)*x, stock[i][10]))\n",
    "            #U_1\n",
    "            stock[i][12] = list(map(lambda x: (((1+b)/((c**(theta))*((a**(-theta))+b)))**(1/theta))*x, stock[i][11]))\n",
    "            #pi\n",
    "            stock[i][13] = list(map(lambda x: ((((1+b)/((c**theta)*((a**(-theta))+b)))*((p/q)**theta)-1)/(u-1))*x, stock[i][10]))\n",
    "            #Exp[U_1]\n",
    "            stock[i][14] = list(map(lambda  l, m, n : comb(i, l, exact=True)*(p**l)*((1-p)**m)*n if (l!=0 and m!=0) \\\n",
    "                                 else (p**l)*n if m==0 \\\n",
    "                                 else ((1-p)**m)*n if l==0 \\\n",
    "                                 else nan \\\n",
    "                                 , stock[i][2], stock[i][3], stock[i][12]))\n",
    "    df = pd.DataFrame(stock)        \n",
    "    df = df.set_index(0)\n",
    "    df.columns = [\"node_num\", \"up_times\", \"down_times\", \"theta\", \"up\", \"down\", \"prob\", \"up_r\", \"down_r\", \"price\", \"U_0\", \"U_1\", \"alpha\", \"Exp_U1\"]\n",
    "\n",
    "    last_u1_mean = list(map(lambda x: np.mean(x), df[\"Exp_U1\"]))[14]\n",
    "    \n",
    "    return df\n",
    "    "
   ]
  },
  {
   "cell_type": "code",
   "execution_count": 15,
   "metadata": {},
   "outputs": [],
   "source": [
    "df =forward(14, 3, 1.2, 0.8, 0.4, 100)"
   ]
  },
  {
   "cell_type": "code",
   "execution_count": 16,
   "metadata": {},
   "outputs": [
    {
     "data": {
      "text/html": [
       "<div>\n",
       "<style scoped>\n",
       "    .dataframe tbody tr th:only-of-type {\n",
       "        vertical-align: middle;\n",
       "    }\n",
       "\n",
       "    .dataframe tbody tr th {\n",
       "        vertical-align: top;\n",
       "    }\n",
       "\n",
       "    .dataframe thead th {\n",
       "        text-align: right;\n",
       "    }\n",
       "</style>\n",
       "<table border=\"1\" class=\"dataframe\">\n",
       "  <thead>\n",
       "    <tr style=\"text-align: right;\">\n",
       "      <th></th>\n",
       "      <th>node_num</th>\n",
       "      <th>up_times</th>\n",
       "      <th>down_times</th>\n",
       "      <th>theta</th>\n",
       "      <th>up</th>\n",
       "      <th>down</th>\n",
       "      <th>prob</th>\n",
       "      <th>up_r</th>\n",
       "      <th>down_r</th>\n",
       "      <th>price</th>\n",
       "      <th>U_0</th>\n",
       "      <th>U_1</th>\n",
       "      <th>alpha</th>\n",
       "      <th>Exp_U1</th>\n",
       "    </tr>\n",
       "    <tr>\n",
       "      <th>0</th>\n",
       "      <th></th>\n",
       "      <th></th>\n",
       "      <th></th>\n",
       "      <th></th>\n",
       "      <th></th>\n",
       "      <th></th>\n",
       "      <th></th>\n",
       "      <th></th>\n",
       "      <th></th>\n",
       "      <th></th>\n",
       "      <th></th>\n",
       "      <th></th>\n",
       "      <th></th>\n",
       "      <th></th>\n",
       "    </tr>\n",
       "  </thead>\n",
       "  <tbody>\n",
       "    <tr>\n",
       "      <th>0</th>\n",
       "      <td>[0]</td>\n",
       "      <td>[0]</td>\n",
       "      <td>[0]</td>\n",
       "      <td>3</td>\n",
       "      <td>[]</td>\n",
       "      <td>[]</td>\n",
       "      <td>0.4</td>\n",
       "      <td>[0]</td>\n",
       "      <td>[0]</td>\n",
       "      <td>[100]</td>\n",
       "      <td>[32.316520350478264]</td>\n",
       "      <td>[31.118495001234137]</td>\n",
       "      <td>[-271.4285714285714]</td>\n",
       "      <td>[31.118495001234137]</td>\n",
       "    </tr>\n",
       "    <tr>\n",
       "      <th>1</th>\n",
       "      <td>[0, 1]</td>\n",
       "      <td>[1, 0]</td>\n",
       "      <td>[0, 1]</td>\n",
       "      <td>3</td>\n",
       "      <td>[1.3790545604596223]</td>\n",
       "      <td>[0.9651253289909472]</td>\n",
       "      <td>0.4</td>\n",
       "      <td>[0, 1]</td>\n",
       "      <td>[1, 0]</td>\n",
       "      <td>[0, 0]</td>\n",
       "      <td>[0.0, 0.0]</td>\n",
       "      <td>[0.0, 0.0]</td>\n",
       "      <td>[-0.0, -0.0]</td>\n",
       "      <td>[0.0, 0.0]</td>\n",
       "    </tr>\n",
       "    <tr>\n",
       "      <th>2</th>\n",
       "      <td>[0, 1, 2]</td>\n",
       "      <td>[2, 1, 0]</td>\n",
       "      <td>[0, 1, 2]</td>\n",
       "      <td>3</td>\n",
       "      <td>[1.2371032945318405, 1.0395204488193222]</td>\n",
       "      <td>[0.9569199060246244, 0.984738533559071]</td>\n",
       "      <td>0.4</td>\n",
       "      <td>[0, 1, 2]</td>\n",
       "      <td>[2, 1, 0]</td>\n",
       "      <td>[0, 1, 0]</td>\n",
       "      <td>[0.0, 1.4999999999999998, 0.0]</td>\n",
       "      <td>[0.0, 1.444392589165634, 0.0]</td>\n",
       "      <td>[-0.0, -2.714285714285714, -0.0]</td>\n",
       "      <td>[0.0, 0.6933084427995043, 0.0]</td>\n",
       "    </tr>\n",
       "    <tr>\n",
       "      <th>3</th>\n",
       "      <td>[0, 1, 2, 3]</td>\n",
       "      <td>[3, 2, 1, 0]</td>\n",
       "      <td>[0, 1, 2, 3]</td>\n",
       "      <td>3</td>\n",
       "      <td>[1.1855191839864292, 1.0591653524282525, 1.265...</td>\n",
       "      <td>[0.8671209205961281, 0.9361350413112121, 0.866...</td>\n",
       "      <td>0.4</td>\n",
       "      <td>[0, 1, 2, 3]</td>\n",
       "      <td>[3, 2, 1, 0]</td>\n",
       "      <td>[0, 2, 2, 0]</td>\n",
       "      <td>[0.0, 2.381101577952299, 2.381101577952299, 0.0]</td>\n",
       "      <td>[0.0, 2.292830315496599, 2.292830315496599, 0.0]</td>\n",
       "      <td>[-0.0, -5.428571428571428, -5.428571428571428,...</td>\n",
       "      <td>[0.0, 0.6603351308630205, 0.9905026962945309, ...</td>\n",
       "    </tr>\n",
       "    <tr>\n",
       "      <th>4</th>\n",
       "      <td>[0, 1, 2, 3, 4]</td>\n",
       "      <td>[4, 3, 2, 1, 0]</td>\n",
       "      <td>[0, 1, 2, 3, 4]</td>\n",
       "      <td>3</td>\n",
       "      <td>[1.3019346589929555, 1.2254896826339126, 1.160...</td>\n",
       "      <td>[0.9993317785683109, 0.9649546000998309, 0.972...</td>\n",
       "      <td>0.4</td>\n",
       "      <td>[0, 1, 2, 3, 4]</td>\n",
       "      <td>[4, 3, 2, 1, 0]</td>\n",
       "      <td>[0, 3, 4, 3, 0]</td>\n",
       "      <td>[0.0, 3.1201257345778557, 3.779763149684619, 3...</td>\n",
       "      <td>[0.0, 3.00445765885949, 3.6396412548038795, 3....</td>\n",
       "      <td>[-0.0, -8.142857142857142, -10.857142857142856...</td>\n",
       "      <td>[0.0, 0.4614846964008178, 1.257860017660221, 1...</td>\n",
       "    </tr>\n",
       "  </tbody>\n",
       "</table>\n",
       "</div>"
      ],
      "text/plain": [
       "          node_num         up_times       down_times  theta  \\\n",
       "0                                                             \n",
       "0              [0]              [0]              [0]      3   \n",
       "1           [0, 1]           [1, 0]           [0, 1]      3   \n",
       "2        [0, 1, 2]        [2, 1, 0]        [0, 1, 2]      3   \n",
       "3     [0, 1, 2, 3]     [3, 2, 1, 0]     [0, 1, 2, 3]      3   \n",
       "4  [0, 1, 2, 3, 4]  [4, 3, 2, 1, 0]  [0, 1, 2, 3, 4]      3   \n",
       "\n",
       "                                                  up  \\\n",
       "0                                                      \n",
       "0                                                 []   \n",
       "1                               [1.3790545604596223]   \n",
       "2           [1.2371032945318405, 1.0395204488193222]   \n",
       "3  [1.1855191839864292, 1.0591653524282525, 1.265...   \n",
       "4  [1.3019346589929555, 1.2254896826339126, 1.160...   \n",
       "\n",
       "                                                down  prob             up_r  \\\n",
       "0                                                                             \n",
       "0                                                 []   0.4              [0]   \n",
       "1                               [0.9651253289909472]   0.4           [0, 1]   \n",
       "2            [0.9569199060246244, 0.984738533559071]   0.4        [0, 1, 2]   \n",
       "3  [0.8671209205961281, 0.9361350413112121, 0.866...   0.4     [0, 1, 2, 3]   \n",
       "4  [0.9993317785683109, 0.9649546000998309, 0.972...   0.4  [0, 1, 2, 3, 4]   \n",
       "\n",
       "            down_r            price  \\\n",
       "0                                     \n",
       "0              [0]            [100]   \n",
       "1           [1, 0]           [0, 0]   \n",
       "2        [2, 1, 0]        [0, 1, 0]   \n",
       "3     [3, 2, 1, 0]     [0, 2, 2, 0]   \n",
       "4  [4, 3, 2, 1, 0]  [0, 3, 4, 3, 0]   \n",
       "\n",
       "                                                 U_0  \\\n",
       "0                                                      \n",
       "0                               [32.316520350478264]   \n",
       "1                                         [0.0, 0.0]   \n",
       "2                     [0.0, 1.4999999999999998, 0.0]   \n",
       "3   [0.0, 2.381101577952299, 2.381101577952299, 0.0]   \n",
       "4  [0.0, 3.1201257345778557, 3.779763149684619, 3...   \n",
       "\n",
       "                                                 U_1  \\\n",
       "0                                                      \n",
       "0                               [31.118495001234137]   \n",
       "1                                         [0.0, 0.0]   \n",
       "2                      [0.0, 1.444392589165634, 0.0]   \n",
       "3   [0.0, 2.292830315496599, 2.292830315496599, 0.0]   \n",
       "4  [0.0, 3.00445765885949, 3.6396412548038795, 3....   \n",
       "\n",
       "                                               alpha  \\\n",
       "0                                                      \n",
       "0                               [-271.4285714285714]   \n",
       "1                                       [-0.0, -0.0]   \n",
       "2                   [-0.0, -2.714285714285714, -0.0]   \n",
       "3  [-0.0, -5.428571428571428, -5.428571428571428,...   \n",
       "4  [-0.0, -8.142857142857142, -10.857142857142856...   \n",
       "\n",
       "                                              Exp_U1  \n",
       "0                                                     \n",
       "0                               [31.118495001234137]  \n",
       "1                                         [0.0, 0.0]  \n",
       "2                     [0.0, 0.6933084427995043, 0.0]  \n",
       "3  [0.0, 0.6603351308630205, 0.9905026962945309, ...  \n",
       "4  [0.0, 0.4614846964008178, 1.257860017660221, 1...  "
      ]
     },
     "execution_count": 16,
     "metadata": {},
     "output_type": "execute_result"
    }
   ],
   "source": [
    "df.head()"
   ]
  },
  {
   "cell_type": "code",
   "execution_count": 48,
   "metadata": {},
   "outputs": [
    {
     "name": "stdout",
     "output_type": "stream",
     "text": [
      "[[], []]\n",
      "[[137.90545604596224], [96.51253289909472]]\n",
      "[[123.71032945318406, 103.95204488193221], [95.69199060246244, 98.47385335590711]]\n",
      "[[118.55191839864293, 105.91653524282525, 126.51133371562896], [86.71209205961281, 93.6135041311212, 86.64814421484179]]\n"
     ]
    }
   ],
   "source": [
    "default_x=100\n",
    "for i in range(4):\n",
    "    print([list(map(lambda x, y, z: default_x if x==0 and y==0 else default_x*z, df.up_r[i], df.down_r[i], df.up[i])), \\\n",
    "          list(map(lambda x, y, z: default_x if x==0 and y==0 else default_x*z, df.up_r[i], df.down_r[i], df.down[i]))])"
   ]
  },
  {
   "cell_type": "code",
   "execution_count": 43,
   "metadata": {},
   "outputs": [
    {
     "ename": "IndexError",
     "evalue": "list index out of range",
     "output_type": "error",
     "traceback": [
      "\u001b[0;31m---------------------------------------------------------------------------\u001b[0m",
      "\u001b[0;31mIndexError\u001b[0m                                Traceback (most recent call last)",
      "\u001b[0;32m<ipython-input-43-ae8066c09aab>\u001b[0m in \u001b[0;36m<module>\u001b[0;34m()\u001b[0m\n\u001b[0;32m----> 1\u001b[0;31m \u001b[0mtmp\u001b[0m\u001b[0;34m[\u001b[0m\u001b[0;36m2\u001b[0m\u001b[0;34m]\u001b[0m\u001b[0;34m\u001b[0m\u001b[0m\n\u001b[0m",
      "\u001b[0;31mIndexError\u001b[0m: list index out of range"
     ]
    }
   ],
   "source": []
  },
  {
   "cell_type": "code",
   "execution_count": 71,
   "metadata": {},
   "outputs": [],
   "source": [
    "tmp =[]\n",
    "for i in range(1, 1000):\n",
    "    tmp.append([])\n",
    "    tmp.append(random.random()*(-(2/5))+0.2)"
   ]
  },
  {
   "cell_type": "code",
   "execution_count": 59,
   "metadata": {},
   "outputs": [],
   "source": [
    "tmp = []\n",
    "u=1.2\n",
    "random.seed(123)\n",
    "for i in range(len(df)):\n",
    "    tmp.append([])    \n",
    "    for j in range(i):\n",
    "        tmp[i].append(u+random.random()*(-(2/5))+0.2)        "
   ]
  },
  {
   "cell_type": "code",
   "execution_count": 152,
   "metadata": {},
   "outputs": [],
   "source": [
    "random.seed(123)\n",
    "\n",
    "u=1.2\n",
    "d=0.8\n",
    "p=0.4\n",
    "N=3\n",
    "\n",
    "q = (1-d)/(u-d)\n",
    "a = ((1-p)/p)*(q/(1-q))\n",
    "b = (1-q)/q\n",
    "c = (1-p)/(1-q)\n",
    "\n",
    "x=100\n",
    "    \n",
    "stock = []\n",
    "tmp = []\n",
    "up = []\n",
    "down = []\n",
    "prob = []\n",
    "    \n",
    "for i in range(N+1):\n",
    "    stock.append([])\n",
    "    up.append([])\n",
    "    down.append([])\n",
    "    tmp.append(i)\n",
    "    for j in range(0,N+1):\n",
    "        stock[i].append([])\n",
    "    for k in range(i):\n",
    "        up[i].append(u+random.random()*(-(2/5))+0.2)\n",
    "        down[i].append(d+random.random()*(-(2/5))+0.2)\n",
    "    "
   ]
  },
  {
   "cell_type": "code",
   "execution_count": 170,
   "metadata": {},
   "outputs": [
    {
     "ename": "IndexError",
     "evalue": "list assignment index out of range",
     "output_type": "error",
     "traceback": [
      "\u001b[0;31m---------------------------------------------------------------------------\u001b[0m",
      "\u001b[0;31mIndexError\u001b[0m                                Traceback (most recent call last)",
      "\u001b[0;32m<ipython-input-170-f52bb803de1c>\u001b[0m in \u001b[0;36m<module>\u001b[0;34m()\u001b[0m\n\u001b[1;32m      1\u001b[0m \u001b[0mtmp\u001b[0m\u001b[0;34m=\u001b[0m\u001b[0;34m[\u001b[0m\u001b[0;34m]\u001b[0m\u001b[0;34m\u001b[0m\u001b[0m\n\u001b[1;32m      2\u001b[0m \u001b[0;32mfor\u001b[0m \u001b[0mi\u001b[0m \u001b[0;32min\u001b[0m \u001b[0mrange\u001b[0m\u001b[0;34m(\u001b[0m\u001b[0mlen\u001b[0m\u001b[0;34m(\u001b[0m\u001b[0mup\u001b[0m\u001b[0;34m)\u001b[0m\u001b[0;34m+\u001b[0m\u001b[0;36m1\u001b[0m\u001b[0;34m)\u001b[0m\u001b[0;34m:\u001b[0m\u001b[0;34m\u001b[0m\u001b[0m\n\u001b[0;32m----> 3\u001b[0;31m     \u001b[0mtmp\u001b[0m\u001b[0;34m[\u001b[0m\u001b[0mi\u001b[0m\u001b[0;34m]\u001b[0m\u001b[0;34m=\u001b[0m\u001b[0mlist\u001b[0m\u001b[0;34m(\u001b[0m\u001b[0mmap\u001b[0m\u001b[0;34m(\u001b[0m\u001b[0;32mlambda\u001b[0m \u001b[0mx\u001b[0m\u001b[0;34m:\u001b[0m \u001b[0mx\u001b[0m\u001b[0;34m*\u001b[0m\u001b[0;36m100\u001b[0m\u001b[0;34m,\u001b[0m \u001b[0mup\u001b[0m\u001b[0;34m[\u001b[0m\u001b[0mi\u001b[0m\u001b[0;34m]\u001b[0m\u001b[0;34m)\u001b[0m\u001b[0;34m)\u001b[0m\u001b[0;34m\u001b[0m\u001b[0m\n\u001b[0m",
      "\u001b[0;31mIndexError\u001b[0m: list assignment index out of range"
     ]
    }
   ],
   "source": [
    "tmp=[]\n",
    "for i in range(len(up)+1):\n",
    "    tmp[i]=list(map(lambda x: x*100, up[i]))"
   ]
  },
  {
   "cell_type": "code",
   "execution_count": 162,
   "metadata": {},
   "outputs": [
    {
     "data": {
      "text/plain": [
       "[118.55191839864293, 105.91653524282525, 126.51133371562896]"
      ]
     },
     "execution_count": 162,
     "metadata": {},
     "output_type": "execute_result"
    }
   ],
   "source": []
  },
  {
   "cell_type": "code",
   "execution_count": 168,
   "metadata": {},
   "outputs": [
    {
     "data": {
      "text/plain": [
       "[1.3790545604596223]"
      ]
     },
     "execution_count": 168,
     "metadata": {},
     "output_type": "execute_result"
    }
   ],
   "source": []
  },
  {
   "cell_type": "code",
   "execution_count": null,
   "metadata": {},
   "outputs": [],
   "source": []
  }
 ],
 "metadata": {
  "kernelspec": {
   "display_name": "Python 3",
   "language": "python",
   "name": "python3"
  },
  "language_info": {
   "codemirror_mode": {
    "name": "ipython",
    "version": 3
   },
   "file_extension": ".py",
   "mimetype": "text/x-python",
   "name": "python",
   "nbconvert_exporter": "python",
   "pygments_lexer": "ipython3",
   "version": "3.6.4"
  }
 },
 "nbformat": 4,
 "nbformat_minor": 2
}
