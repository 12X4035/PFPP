{
 "cells": [
  {
   "cell_type": "markdown",
   "metadata": {},
   "source": [
    "Backwardでも確認してみる"
   ]
  },
  {
   "cell_type": "markdown",
   "metadata": {},
   "source": [
    "### Frorward-type\n",
    "- 効用関数：$U_0(x)=(1-\\frac{1}{\\theta})^{-1}x\\left(1-\\frac{1}{\\theta}\\right)$<br><br>\n",
    "- 上の逆関数：$I_0(y)=y^{-\\theta}$<br><br>\n",
    "- 線形関係式：$I_1(ay)+bI_1(y)=(1+b)I_0(cy),\\ y>0.$<br><br>\n",
    "$a=\\frac{1-p}{p}\\frac{q}{1-q},\\ b=\\frac{1-q}{q},\\ c=\\frac{1-p}{1-q}$<br><br>\n",
    "- 次の時刻の逆関数：$I_1(y)=\\delta y^{-\\theta},\\ y>0.$<br><br>\n",
    "$\\delta=\\frac{1+b}{c^{\\theta}(a^{-\\theta}+b)}$<br><br>\n",
    "- 次の時刻の効用関数：$U_1(x)=\\delta^{\\frac{1}{\\theta}}\\left(1-\\frac{1}{\\theta}\\right)^{-1}x^{1-\\frac{1}{\\theta}},\\ x>0.$\n",
    "- 最適投資額：$\\pi^*(x)=\\frac{\\delta\\left(\\frac{p}{q}\\right)-1}{u-1}x,\\ x>0.$\n"
   ]
  },
  {
   "cell_type": "markdown",
   "metadata": {},
   "source": [
    "### Backward-type\n",
    "- Value：$V_n=V_{n-1}(1+\\pi_n\\mu_n)=\n",
    "\\left\\{ \\begin{array}{}\n",
    "V_{n-1}(1+\\pi_n(u-1)) \\\\\n",
    "V_{n-1}(1+\\pi_n(d-1))\n",
    "\\end{array}\n",
    "\\right.$\n",
    "- Wealth：$M^{N-n}\\frac{v^{\\gamma}}{\\gamma}$<br><br>\n",
    "$\\left(\\gamma=\\left(1-\\frac{1}{\\theta}\\right),\\ M=\\max_{\\pi}\\{p(1+\\pi(u-1))^{\\gamma}+(1-p)(1+\\pi(d-1))^{\\gamma}\\}\\right)$<br><br>\n",
    "- 最適投資比率：$\\pi_n^{max}(v)=\\frac{K-1}{u-1+K(1-d)}$<br><br>\n",
    "$K=\\left(\\frac{p(u-1)}{(1-p)(-d)}\\right)^{\\frac{1}{1-\\gamma}}$<br><br>\n",
    "- 確実性等価：$y=\\sqrt[\\gamma]{\\gamma x}$"
   ]
  },
  {
   "cell_type": "code",
   "execution_count": 1,
   "metadata": {},
   "outputs": [],
   "source": [
    "import pandas as pd\n",
    "import numpy as np\n",
    "from numpy.random import *\n",
    "import matplotlib.pyplot as plt\n",
    "from scipy.special import comb\n",
    "import math"
   ]
  },
  {
   "cell_type": "markdown",
   "metadata": {},
   "source": [
    "### Value"
   ]
  },
  {
   "cell_type": "code",
   "execution_count": 7,
   "metadata": {},
   "outputs": [],
   "source": [
    "def value(N, u, d, pi, default_x):\n",
    "    val_arr = []\n",
    "    recursive = []\n",
    "    for l in range(2**(N+1)):\n",
    "        for m in range(2):\n",
    "            recursive.append(l)\n",
    "    for l in range(N+1):\n",
    "        val_arr.append([])\n",
    "        val_arr[l] = [0 for m in range(2**l)]\n",
    "        if l==0:\n",
    "            val_arr[l][l]=default_x\n",
    "        else:\n",
    "            for n in range(len(val_arr[l])):\n",
    "                if (n+1)%2!=0:\n",
    "                    val_arr[l][n] = val_arr[l-1][recursive[n]]*(1+pi*(u-1))\n",
    "                if (n+1)%2==0:\n",
    "                    val_arr[l][n] = val_arr[l-1][recursive[n]]*(1+pi*(d-1))\n",
    "\n",
    "    return val_arr"
   ]
  },
  {
   "cell_type": "code",
   "execution_count": 14,
   "metadata": {},
   "outputs": [
    {
     "data": {
      "text/plain": [
       "[[100],\n",
       " [108.0, 92.0],\n",
       " [116.64000000000001, 99.36, 99.36000000000001, 84.64],\n",
       " [125.97120000000002,\n",
       "  107.30880000000002,\n",
       "  107.3088,\n",
       "  91.41120000000001,\n",
       "  107.30880000000002,\n",
       "  91.41120000000002,\n",
       "  91.41120000000001,\n",
       "  77.86880000000001]]"
      ]
     },
     "execution_count": 14,
     "metadata": {},
     "output_type": "execute_result"
    }
   ],
   "source": [
    "value(3, 1.2, 0.8, 0.4, 100)"
   ]
  },
  {
   "cell_type": "markdown",
   "metadata": {},
   "source": [
    "### Backward"
   ]
  },
  {
   "cell_type": "code",
   "execution_count": 3,
   "metadata": {},
   "outputs": [],
   "source": [
    "def backward(N, theta, u, d, p, price_x, default_x):\n",
    "    gamma = (1-1/theta)\n",
    "    K = (p*(u-1)/((1-p)*(1-d)))**(1/(1-gamma))\n",
    "    pi = (K-1)/(u-1+K*(1-d))\n",
    "    M = p*(1+pi*(u-1))**(1-(1/theta))+(1-p)*(1+pi*(d-1))**(1-(1/theta))\n",
    "    val = value(N+1, u, d, pi, default_x)\n",
    "    \n",
    "    num = [ i for i in range(N+1)]\n",
    "    stock = [[ [] for i in range(N+1) ] for j in range(N+1)]\n",
    "    \n",
    "    #⇡リスト内包表記のほうが速いらしい         \n",
    "    #for i in range(N+1):\n",
    "    #    stock.append([])\n",
    "    #    for j in range(0,N+1):\n",
    "    #        stock[i].append([])\n",
    "     \n",
    "    for i in range(N+1):\n",
    "        for j in range(N+1):\n",
    "            #index\n",
    "            stock[i][0] = i\n",
    "            #node_num\n",
    "            stock[i][1] = num[0:i+1]\n",
    "            #up_times\n",
    "            stock[i][2] = num[i::-1]\n",
    "            #down_times\n",
    "            stock[i][3] = num[0:i+1]\n",
    "            #theta\n",
    "            stock[i][4] = theta\n",
    "            #prob\n",
    "            stock[i][5] = p\n",
    "            #up_r\n",
    "            stock[i][6] = list(map(lambda x: 0 if x==0 else u**x, num[0:i+1]))\n",
    "            #down_r\n",
    "            stock[i][7] = list(map(lambda x: 0 if x==0 else d**x, num[i::-1]))\n",
    "            #price\n",
    "            stock[i][8] = list(map(lambda x, y: price_x if x==0 and y==0 else (price_x*x)+(price_x*y) if x==0 or y==0 else (price_x*x*y), stock[i][6], stock[i][7]))\n",
    "            #value\n",
    "            stock[i][9] = val[i]\n",
    "\n",
    "            #Wealth\n",
    "            stock[i][10] = list(map(lambda x: (M**((10)-i))*((1-(1/theta))**(-1))*(x)**(1-(1/theta)), stock[i][9]))\n",
    "            \n",
    "            #Utility\n",
    "            stock[i][11] = list(map(lambda x: (1-1/theta)**(-1)*x**(1-1/theta), stock[i][9]))\n",
    "            #Exp_value\n",
    "            \n",
    "            stock[i][12] = list(map(lambda  l, m, n : comb(i, l, exact=True)*(p**l)*((1-p)**m)*n if (l!=0 and m!=0) \\\n",
    "                                 else (p**l)*n if m==0 \\\n",
    "                                 else ((1-p)**m)*n if l==0 \\\n",
    "                                 else nan \\\n",
    "                                , stock[i][2], stock[i][3], stock[i][11]))\n",
    "            \n",
    "            stock[i][13] = list(map(lambda  l, m, n : comb(i, l, exact=True)*(p**l)*((1-p)**m)*n if (l!=0 and m!=0) \\\n",
    "                                 else (p**l)*n if m==0 \\\n",
    "                                 else ((1-p)**m)*n if l==0 \\\n",
    "                                 else nan \\\n",
    "                                , stock[i][2], stock[i][3], stock[i][10]))\n",
    "    df = pd.DataFrame(stock)\n",
    "    df = df.set_index(0)\n",
    "    df.columns = [\"node_num\", \"up_times\", \"down_times\", \"theta\", \"prob\", \"up_r\", \"down_r\", \"price\", \"value\", \"wealth\", \"utility\", \"Exp_val\", \"Wn\"]\n",
    "    \n",
    "    \n",
    "    return df[\"Exp_val\"][10]#np.sum(df[\"Exp_val\"][10]), df[\"wealth\"][0][0], math.pow(df[\"wealth\"][0][0]*(1-(1/theta)), 1/(1-(1/theta)))"
   ]
  },
  {
   "cell_type": "markdown",
   "metadata": {},
   "source": [
    "### Forward"
   ]
  },
  {
   "cell_type": "code",
   "execution_count": 28,
   "metadata": {},
   "outputs": [],
   "source": [
    "def delta (theta, a, b, c):\n",
    "    return ((1+b)/((c**(theta))*((a**(-theta))+b)))"
   ]
  },
  {
   "cell_type": "code",
   "execution_count": 29,
   "metadata": {},
   "outputs": [],
   "source": [
    "def forward(N, theta, u, d, p, default_x):\n",
    "\n",
    "    seed(123)\n",
    "\n",
    "    q = (1-d)/(u-d)\n",
    "    a = ((1-p)/p)*(q/(1-q))\n",
    "    b = (1-q)/q\n",
    "    c = (1-p)/(1-q)\n",
    "\n",
    "    num = [ i for i in range(N+1)]\n",
    "    stock = [[ [] for i in range(N+1) ] for j in range(N+1)]\n",
    "    \n",
    "    pi = (delta(theta, a, b, c)*((p/q)**(theta))-1)/(u-1)\n",
    "    M = p*(1+pi*(u-1))**(1-(1/theta))+(p-1)*(1+pi*(d-1))**(1-(1/theta))\n",
    "    val = value(N+1, u, d, pi, default_x)\n",
    "    \n",
    "    for i in range(N+1):\n",
    "        for j in range(N+1):\n",
    "            #index\n",
    "            stock[i][0] = i\n",
    "            #node_num\n",
    "            stock[i][1] = num[0:i+1]\n",
    "            #up_times\n",
    "            stock[i][2] = num[i::-1]\n",
    "            #down_times\n",
    "            stock[i][3] = num[0:i+1]\n",
    "            #theta\n",
    "            stock[i][4] = theta\n",
    "            #u\n",
    "            stock[i][5] = u\n",
    "            #+(0.1*random()) if i>1 else u if i==1  else 0\n",
    "            #d\n",
    "            stock[i][6] = d\n",
    "            #+(0.1*random()) if i>1 else d if i==1  else 0\n",
    "            #p\n",
    "            stock[i][7] = p\n",
    "            #q\n",
    "            stock[i][8] = (1-stock[i][6])/(stock[i][5]-stock[i][6]) if i>1 else q if i==1  else 0\n",
    "            #a\n",
    "            stock[i][9] = ((1-stock[i][7])/stock[i][7])*(stock[i][8]/(1-stock[i][8])) if i>1 else a if i==1 else 0\n",
    "            #b\n",
    "            stock[i][10] = ((1-stock[i][8])/stock[i][8]) if i>1 else b if i==1 else 0\n",
    "            #c\n",
    "            stock[i][11] = ((1-stock[i][7])/(1-stock[i][8])) if i>1 else c if i==1 else 0\n",
    "            #pi\n",
    "            stock[i][12] = (delta(theta, stock[i][9], stock[i][10], stock[i][11])*((stock[i][7]/stock[i][8])**(theta))-1)/(stock[i][5]-1) if i>1 else pi if i==1 else 0\n",
    "            #price\n",
    "            #stock[i][10] = list(map(lambda x, y: default_x if x==0 and y==0 else (default_x*x)+(default_x*y) if x==0 or y==0 else (default_x*x)*(default_x*y), stock[i][8], stock[i][9]))            \n",
    "            #value\n",
    "            stock[i][13] = val[i]\n",
    "            #Wealth\n",
    "            #プログラム上、ここのNを10にして10期間にしている\n",
    "            stock[i][14] = list(map(lambda x: (M**(10-i))*((1/(1-theta))**(-1))*(x)**(1-(1/theta)), stock[i][13]))\n",
    "            #U_0\n",
    "            stock[i][15] = list(map(lambda x: ((1-(1/theta))**(-1))*(x**(1-(1/theta))), stock[i][13]))\n",
    "            #I_0\n",
    "            #stock[i][10] = list(map(lambda x: (x**(-1/theta))**(-1), stock[i][8]))\n",
    "            #I_1\n",
    "            #stock[i][11] = list(map(lambda x: (1+b)/((c**theta)*((a**(-theta))+b)*x, stock[i][10]))\n",
    "            #U_1\n",
    "            stock[i][16] = list(map(lambda x: (((1+b)/((c**(theta))*((a**(-theta))+b)))**(1/theta))*x, stock[i][15]))\n",
    "            #pi\n",
    "            #stock[i][14] = list(map(lambda x: ((((1+b)/((c**theta)*((a**(-theta))+b)))*((p/q)**theta)-1)/(u-1))*x, stock[i][13]))\n",
    "            #Exp[U_1]\n",
    "            stock[i][17] = list(map(lambda  l, m, n : comb(i, l, exact=True)*(p**l)*((1-p)**m)*n if (l!=0 and m!=0) \\\n",
    "                                 else (p**l)*n if m==0 \\\n",
    "                                 else ((1-p)**m)*n if l==0 \\\n",
    "                                 else nan \\\n",
    "                                 , stock[i][2], stock[i][3], stock[i][16]))\n",
    "           \n",
    "            \n",
    "    df = pd.DataFrame(stock)\n",
    "    df = df.set_index(0)\n",
    "    df.columns = [\"node_num\", \"up_times\", \"down_times\", \"theta\", \"u\", \"d\", \"p\", \"q\", \"a\", \"b\", \"c\", \"pi\", \"value\", \"wealth\", \"U_0\", \"U_1\", \"Exp_U1\"]\n",
    "    \n",
    "    return df[\"Exp_U1\"][10]\n",
    "    "
   ]
  },
  {
   "cell_type": "markdown",
   "metadata": {},
   "source": [
    "#### parameter：$(\\theta, u, d, p)=(1.2, 1.2, 0.8, 0.4)$"
   ]
  },
  {
   "cell_type": "code",
   "execution_count": 30,
   "metadata": {},
   "outputs": [
    {
     "ename": "TypeError",
     "evalue": "'float' object is not iterable",
     "output_type": "error",
     "traceback": [
      "\u001b[0;31m---------------------------------------------------------------------------\u001b[0m",
      "\u001b[0;31mTypeError\u001b[0m                                 Traceback (most recent call last)",
      "\u001b[0;32m<ipython-input-30-903b7eaacf61>\u001b[0m in \u001b[0;36m<module>\u001b[0;34m()\u001b[0m\n\u001b[1;32m      3\u001b[0m \u001b[0;32mfor\u001b[0m \u001b[0mi\u001b[0m \u001b[0;32min\u001b[0m \u001b[0mrange\u001b[0m\u001b[0;34m(\u001b[0m\u001b[0;36m1\u001b[0m\u001b[0;34m,\u001b[0m \u001b[0;36m11\u001b[0m\u001b[0;34m)\u001b[0m\u001b[0;34m:\u001b[0m\u001b[0;34m\u001b[0m\u001b[0m\n\u001b[1;32m      4\u001b[0m     \u001b[0mdefault_arr\u001b[0m\u001b[0;34m.\u001b[0m\u001b[0mappend\u001b[0m\u001b[0;34m(\u001b[0m\u001b[0;36m500\u001b[0m\u001b[0;34m*\u001b[0m\u001b[0mi\u001b[0m\u001b[0;34m)\u001b[0m\u001b[0;34m\u001b[0m\u001b[0m\n\u001b[0;32m----> 5\u001b[0;31m     \u001b[0mforward_type\u001b[0m \u001b[0;34m=\u001b[0m \u001b[0;34m[\u001b[0m\u001b[0mlist\u001b[0m\u001b[0;34m(\u001b[0m\u001b[0mmap\u001b[0m\u001b[0;34m(\u001b[0m\u001b[0;32mlambda\u001b[0m \u001b[0mx\u001b[0m\u001b[0;34m:\u001b[0m \u001b[0mx\u001b[0m\u001b[0;34m,\u001b[0m \u001b[0mdefault_arr\u001b[0m\u001b[0;34m)\u001b[0m\u001b[0;34m)\u001b[0m\u001b[0;34m,\u001b[0m \u001b[0mlist\u001b[0m\u001b[0;34m(\u001b[0m\u001b[0mmap\u001b[0m\u001b[0;34m(\u001b[0m\u001b[0;32mlambda\u001b[0m \u001b[0mx\u001b[0m\u001b[0;34m:\u001b[0m \u001b[0mnp\u001b[0m\u001b[0;34m.\u001b[0m\u001b[0msum\u001b[0m\u001b[0;34m(\u001b[0m\u001b[0mforward\u001b[0m\u001b[0;34m(\u001b[0m\u001b[0;36m17\u001b[0m\u001b[0;34m,\u001b[0m \u001b[0;36m1.2\u001b[0m\u001b[0;34m,\u001b[0m \u001b[0;36m1.2\u001b[0m\u001b[0;34m,\u001b[0m \u001b[0;36m0.8\u001b[0m\u001b[0;34m,\u001b[0m \u001b[0;36m0.4\u001b[0m\u001b[0;34m,\u001b[0m \u001b[0mx\u001b[0m\u001b[0;34m)\u001b[0m\u001b[0;34m)\u001b[0m\u001b[0;34m,\u001b[0m \u001b[0mdefault_arr\u001b[0m\u001b[0;34m)\u001b[0m\u001b[0;34m)\u001b[0m\u001b[0;34m]\u001b[0m\u001b[0;34m\u001b[0m\u001b[0m\n\u001b[0m\u001b[1;32m      6\u001b[0m \u001b[0;34m\u001b[0m\u001b[0m\n\u001b[1;32m      7\u001b[0m \u001b[0mfw\u001b[0m \u001b[0;34m=\u001b[0m \u001b[0mpd\u001b[0m\u001b[0;34m.\u001b[0m\u001b[0mDataFrame\u001b[0m\u001b[0;34m(\u001b[0m\u001b[0mforward_type\u001b[0m\u001b[0;34m)\u001b[0m\u001b[0;34m.\u001b[0m\u001b[0mT\u001b[0m\u001b[0;34m\u001b[0m\u001b[0m\n",
      "\u001b[0;32m<ipython-input-30-903b7eaacf61>\u001b[0m in \u001b[0;36m<lambda>\u001b[0;34m(x)\u001b[0m\n\u001b[1;32m      3\u001b[0m \u001b[0;32mfor\u001b[0m \u001b[0mi\u001b[0m \u001b[0;32min\u001b[0m \u001b[0mrange\u001b[0m\u001b[0;34m(\u001b[0m\u001b[0;36m1\u001b[0m\u001b[0;34m,\u001b[0m \u001b[0;36m11\u001b[0m\u001b[0;34m)\u001b[0m\u001b[0;34m:\u001b[0m\u001b[0;34m\u001b[0m\u001b[0m\n\u001b[1;32m      4\u001b[0m     \u001b[0mdefault_arr\u001b[0m\u001b[0;34m.\u001b[0m\u001b[0mappend\u001b[0m\u001b[0;34m(\u001b[0m\u001b[0;36m500\u001b[0m\u001b[0;34m*\u001b[0m\u001b[0mi\u001b[0m\u001b[0;34m)\u001b[0m\u001b[0;34m\u001b[0m\u001b[0m\n\u001b[0;32m----> 5\u001b[0;31m     \u001b[0mforward_type\u001b[0m \u001b[0;34m=\u001b[0m \u001b[0;34m[\u001b[0m\u001b[0mlist\u001b[0m\u001b[0;34m(\u001b[0m\u001b[0mmap\u001b[0m\u001b[0;34m(\u001b[0m\u001b[0;32mlambda\u001b[0m \u001b[0mx\u001b[0m\u001b[0;34m:\u001b[0m \u001b[0mx\u001b[0m\u001b[0;34m,\u001b[0m \u001b[0mdefault_arr\u001b[0m\u001b[0;34m)\u001b[0m\u001b[0;34m)\u001b[0m\u001b[0;34m,\u001b[0m \u001b[0mlist\u001b[0m\u001b[0;34m(\u001b[0m\u001b[0mmap\u001b[0m\u001b[0;34m(\u001b[0m\u001b[0;32mlambda\u001b[0m \u001b[0mx\u001b[0m\u001b[0;34m:\u001b[0m \u001b[0mnp\u001b[0m\u001b[0;34m.\u001b[0m\u001b[0msum\u001b[0m\u001b[0;34m(\u001b[0m\u001b[0mforward\u001b[0m\u001b[0;34m(\u001b[0m\u001b[0;36m17\u001b[0m\u001b[0;34m,\u001b[0m \u001b[0;36m1.2\u001b[0m\u001b[0;34m,\u001b[0m \u001b[0;36m1.2\u001b[0m\u001b[0;34m,\u001b[0m \u001b[0;36m0.8\u001b[0m\u001b[0;34m,\u001b[0m \u001b[0;36m0.4\u001b[0m\u001b[0;34m,\u001b[0m \u001b[0mx\u001b[0m\u001b[0;34m)\u001b[0m\u001b[0;34m)\u001b[0m\u001b[0;34m,\u001b[0m \u001b[0mdefault_arr\u001b[0m\u001b[0;34m)\u001b[0m\u001b[0;34m)\u001b[0m\u001b[0;34m]\u001b[0m\u001b[0;34m\u001b[0m\u001b[0m\n\u001b[0m\u001b[1;32m      6\u001b[0m \u001b[0;34m\u001b[0m\u001b[0m\n\u001b[1;32m      7\u001b[0m \u001b[0mfw\u001b[0m \u001b[0;34m=\u001b[0m \u001b[0mpd\u001b[0m\u001b[0;34m.\u001b[0m\u001b[0mDataFrame\u001b[0m\u001b[0;34m(\u001b[0m\u001b[0mforward_type\u001b[0m\u001b[0;34m)\u001b[0m\u001b[0;34m.\u001b[0m\u001b[0mT\u001b[0m\u001b[0;34m\u001b[0m\u001b[0m\n",
      "\u001b[0;32m<ipython-input-29-156980cccd42>\u001b[0m in \u001b[0;36mforward\u001b[0;34m(N, theta, u, d, p, default_x)\u001b[0m\n\u001b[1;32m     51\u001b[0m             \u001b[0;31m#Wealth\u001b[0m\u001b[0;34m\u001b[0m\u001b[0;34m\u001b[0m\u001b[0m\n\u001b[1;32m     52\u001b[0m             \u001b[0;31m#プログラム上、ここのNを10にして10期間にしている\u001b[0m\u001b[0;34m\u001b[0m\u001b[0;34m\u001b[0m\u001b[0m\n\u001b[0;32m---> 53\u001b[0;31m             \u001b[0mstock\u001b[0m\u001b[0;34m[\u001b[0m\u001b[0mi\u001b[0m\u001b[0;34m]\u001b[0m\u001b[0;34m[\u001b[0m\u001b[0;36m14\u001b[0m\u001b[0;34m]\u001b[0m \u001b[0;34m=\u001b[0m \u001b[0mlist\u001b[0m\u001b[0;34m(\u001b[0m\u001b[0mmap\u001b[0m\u001b[0;34m(\u001b[0m\u001b[0;32mlambda\u001b[0m \u001b[0mx\u001b[0m\u001b[0;34m:\u001b[0m \u001b[0;34m(\u001b[0m\u001b[0mM\u001b[0m\u001b[0;34m**\u001b[0m\u001b[0;34m(\u001b[0m\u001b[0;36m10\u001b[0m\u001b[0;34m-\u001b[0m\u001b[0mi\u001b[0m\u001b[0;34m)\u001b[0m\u001b[0;34m)\u001b[0m\u001b[0;34m*\u001b[0m\u001b[0;34m(\u001b[0m\u001b[0;34m(\u001b[0m\u001b[0;36m1\u001b[0m\u001b[0;34m/\u001b[0m\u001b[0;34m(\u001b[0m\u001b[0;36m1\u001b[0m\u001b[0;34m-\u001b[0m\u001b[0mtheta\u001b[0m\u001b[0;34m)\u001b[0m\u001b[0;34m)\u001b[0m\u001b[0;34m**\u001b[0m\u001b[0;34m(\u001b[0m\u001b[0;34m-\u001b[0m\u001b[0;36m1\u001b[0m\u001b[0;34m)\u001b[0m\u001b[0;34m)\u001b[0m\u001b[0;34m*\u001b[0m\u001b[0;34m(\u001b[0m\u001b[0mx\u001b[0m\u001b[0;34m)\u001b[0m\u001b[0;34m**\u001b[0m\u001b[0;34m(\u001b[0m\u001b[0;36m1\u001b[0m\u001b[0;34m-\u001b[0m\u001b[0;34m(\u001b[0m\u001b[0;36m1\u001b[0m\u001b[0;34m/\u001b[0m\u001b[0mtheta\u001b[0m\u001b[0;34m)\u001b[0m\u001b[0;34m)\u001b[0m\u001b[0;34m,\u001b[0m \u001b[0mstock\u001b[0m\u001b[0;34m[\u001b[0m\u001b[0mi\u001b[0m\u001b[0;34m]\u001b[0m\u001b[0;34m[\u001b[0m\u001b[0;36m13\u001b[0m\u001b[0;34m]\u001b[0m\u001b[0;34m)\u001b[0m\u001b[0;34m)\u001b[0m\u001b[0;34m\u001b[0m\u001b[0m\n\u001b[0m\u001b[1;32m     54\u001b[0m             \u001b[0;31m#U_0\u001b[0m\u001b[0;34m\u001b[0m\u001b[0;34m\u001b[0m\u001b[0m\n\u001b[1;32m     55\u001b[0m             \u001b[0mstock\u001b[0m\u001b[0;34m[\u001b[0m\u001b[0mi\u001b[0m\u001b[0;34m]\u001b[0m\u001b[0;34m[\u001b[0m\u001b[0;36m15\u001b[0m\u001b[0;34m]\u001b[0m \u001b[0;34m=\u001b[0m \u001b[0mlist\u001b[0m\u001b[0;34m(\u001b[0m\u001b[0mmap\u001b[0m\u001b[0;34m(\u001b[0m\u001b[0;32mlambda\u001b[0m \u001b[0mx\u001b[0m\u001b[0;34m:\u001b[0m \u001b[0;34m(\u001b[0m\u001b[0;34m(\u001b[0m\u001b[0;36m1\u001b[0m\u001b[0;34m-\u001b[0m\u001b[0;34m(\u001b[0m\u001b[0;36m1\u001b[0m\u001b[0;34m/\u001b[0m\u001b[0mtheta\u001b[0m\u001b[0;34m)\u001b[0m\u001b[0;34m)\u001b[0m\u001b[0;34m**\u001b[0m\u001b[0;34m(\u001b[0m\u001b[0;34m-\u001b[0m\u001b[0;36m1\u001b[0m\u001b[0;34m)\u001b[0m\u001b[0;34m)\u001b[0m\u001b[0;34m*\u001b[0m\u001b[0;34m(\u001b[0m\u001b[0mx\u001b[0m\u001b[0;34m**\u001b[0m\u001b[0;34m(\u001b[0m\u001b[0;36m1\u001b[0m\u001b[0;34m-\u001b[0m\u001b[0;34m(\u001b[0m\u001b[0;36m1\u001b[0m\u001b[0;34m/\u001b[0m\u001b[0mtheta\u001b[0m\u001b[0;34m)\u001b[0m\u001b[0;34m)\u001b[0m\u001b[0;34m)\u001b[0m\u001b[0;34m,\u001b[0m \u001b[0mstock\u001b[0m\u001b[0;34m[\u001b[0m\u001b[0mi\u001b[0m\u001b[0;34m]\u001b[0m\u001b[0;34m[\u001b[0m\u001b[0;36m13\u001b[0m\u001b[0;34m]\u001b[0m\u001b[0;34m)\u001b[0m\u001b[0;34m)\u001b[0m\u001b[0;34m\u001b[0m\u001b[0m\n",
      "\u001b[0;31mTypeError\u001b[0m: 'float' object is not iterable"
     ]
    }
   ],
   "source": [
    "default_arr = []\n",
    "\n",
    "for i in range(1, 11):\n",
    "    default_arr.append(500*i)\n",
    "    forward_type = [list(map(lambda x: x, default_arr)), list(map(lambda x: np.sum(forward(17, 1.2, 1.2, 0.8, 0.4, x)), default_arr))]\n",
    "\n",
    "fw = pd.DataFrame(forward_type).T\n",
    "fw.columns = [\"default\", \"Exp_u1\"]\n",
    "\n",
    "fw_x = fw[\"default\"]\n",
    "fw_y = fw[\"Exp_u1\"]\n",
    "\n",
    "for i in range(1, 11):\n",
    "    backward_type = [list(map(lambda x: x, default_arr)), list(map(lambda x: np.sum(backward(13, 1.2, 1.2, 0.8, 0.4, 100, x)), default_arr))]\n",
    "\n",
    "bk = pd.DataFrame(backward_type).T\n",
    "bk.columns = [\"default\", \"Exp_u1\"]\n",
    "\n",
    "bk_x = bk[\"default\"]\n",
    "bk_y = bk[\"Exp_u1\"]\n",
    "\n",
    "plt.figure(figsize=(20,10))\n",
    "plt.plot(fw_x, fw_y, label = \"forward\")\n",
    "plt.plot(bk_x, bk_y, label = \"backward\")\n",
    "\n",
    "plt.title(\"theta=3.0\")\n",
    "plt.xlabel(\"default_val\")\n",
    "plt.ylabel(\"last_u1_exp\")\n",
    "plt.legend()\n",
    "plt.show()"
   ]
  },
  {
   "cell_type": "code",
   "execution_count": 103,
   "metadata": {},
   "outputs": [
    {
     "data": {
      "text/plain": [
       "(12.610112008342718, 17.595191215478565, 635.999014962574)"
      ]
     },
     "execution_count": 103,
     "metadata": {},
     "output_type": "execute_result"
    }
   ],
   "source": [
    "tmp(13, 1.2, 1.2, 0.8, 0.4, 100, 500)"
   ]
  },
  {
   "cell_type": "markdown",
   "metadata": {},
   "source": [
    "#### parameter：$(\\theta, u, d, p)=(2.0, 1.2, 0.8, 0.4)$"
   ]
  },
  {
   "cell_type": "code",
   "execution_count": 92,
   "metadata": {},
   "outputs": [
    {
     "data": {
      "image/png": "[encoded data removed]",
      "text/plain": [
       "<matplotlib.figure.Figure at 0x10f4b9d68>"
      ]
     },
     "metadata": {},
     "output_type": "display_data"
    }
   ],
   "source": [
    "default_arr = []\n",
    "\n",
    "for i in range(1, 11):\n",
    "    default_arr.append(500*i)\n",
    "    forward_type = [list(map(lambda x: x, default_arr)), list(map(lambda x: np.sum(forward(17, 2.0, 1.2, 0.8, 0.4, x)), default_arr))]\n",
    "\n",
    "fw = pd.DataFrame(forward_type).T\n",
    "fw.columns = [\"default\", \"Exp_u1\"]\n",
    "\n",
    "fw_x = fw[\"default\"]\n",
    "fw_y = fw[\"Exp_u1\"]\n",
    "\n",
    "for i in range(1, 11):\n",
    "    backward_type = [list(map(lambda x: x, default_arr)), list(map(lambda x: np.sum(backward(13, 2.0, 1.2, 0.8, 0.4, 100, x)), default_arr))]\n",
    "\n",
    "bk = pd.DataFrame(backward_type).T\n",
    "bk.columns = [\"default\", \"Exp_u1\"]\n",
    "\n",
    "bk_x = bk[\"default\"]\n",
    "bk_y = bk[\"Exp_u1\"]\n",
    "\n",
    "plt.figure(figsize=(20,10))\n",
    "plt.plot(fw_x, fw_y, label = \"forward\")\n",
    "plt.plot(bk_x, bk_y, label = \"backward\")\n",
    "\n",
    "plt.title(\"theta=3.0\")\n",
    "plt.xlabel(\"default_val\")\n",
    "plt.ylabel(\"last_u1_exp\")\n",
    "plt.legend()\n",
    "plt.show()"
   ]
  },
  {
   "cell_type": "code",
   "execution_count": 102,
   "metadata": {},
   "outputs": [
    {
     "data": {
      "text/plain": [
       "(9.110401455565007, 54.41037189577638, 740.122142459173)"
      ]
     },
     "execution_count": 102,
     "metadata": {},
     "output_type": "execute_result"
    }
   ],
   "source": [
    "tmp(13, 2.0, 1.2, 0.8, 0.4, 100, 500)"
   ]
  },
  {
   "cell_type": "markdown",
   "metadata": {},
   "source": [
    "#### parameter：$(\\theta, u, d, p)=(3.0, 1.2, 0.8, 0.4)$"
   ]
  },
  {
   "cell_type": "code",
   "execution_count": 91,
   "metadata": {},
   "outputs": [
    {
     "data": {
      "image/png": "[encoded data removed]",
      "text/plain": [
       "<matplotlib.figure.Figure at 0x10b419780>"
      ]
     },
     "metadata": {},
     "output_type": "display_data"
    }
   ],
   "source": [
    "default_arr = []\n",
    "\n",
    "for i in range(1, 11):\n",
    "    default_arr.append(500*i)\n",
    "    forward_type = [list(map(lambda x: x, default_arr)), list(map(lambda x: np.sum(forward(17, 3.0, 1.2, 0.8, 0.4, x)), default_arr))]\n",
    "\n",
    "fw = pd.DataFrame(forward_type).T\n",
    "fw.columns = [\"default\", \"Exp_u1\"]\n",
    "\n",
    "fw_x = fw[\"default\"]\n",
    "fw_y = fw[\"Exp_u1\"]\n",
    "\n",
    "for i in range(1, 11):\n",
    "    backward_type = [list(map(lambda x: x, default_arr)), list(map(lambda x: np.sum(backward(13, 3.0, 1.2, 0.8, 0.4, 100, x)), default_arr))]\n",
    "\n",
    "bk = pd.DataFrame(backward_type).T\n",
    "bk.columns = [\"default\", \"Exp_u1\"]\n",
    "\n",
    "bk_x = bk[\"default\"]\n",
    "bk_y = bk[\"Exp_u1\"]\n",
    "\n",
    "plt.figure(figsize=(20,10))\n",
    "plt.plot(fw_x, fw_y, label = \"forward\")\n",
    "plt.plot(bk_x, bk_y, label = \"backward\")\n",
    "\n",
    "plt.title(\"theta=3.0\")\n",
    "plt.xlabel(\"default_val\")\n",
    "plt.ylabel(\"last_u1_exp\")\n",
    "plt.legend()\n",
    "plt.show()"
   ]
  },
  {
   "cell_type": "code",
   "execution_count": 17,
   "metadata": {},
   "outputs": [],
   "source": [
    "def tmp(N, theta, u, d, p, price_x, default_x):\n",
    "    gamma = (1-1/theta)\n",
    "    K = (p*(u-1)/((1-p)*(1-d)))**(1/(1-gamma))\n",
    "    pi = (K-1)/(u-1+K*(1-d))\n",
    "    M = p*(1+pi*(u-1))**(1-(1/theta))+(1-p)*(1+pi*(d-1))**(1-(1/theta))\n",
    "    val = value(N+1, u, d, pi, default_x)\n",
    "    \n",
    "    num = [ i for i in range(N+1)]\n",
    "    stock = [[ [] for i in range(N+1) ] for j in range(N+1)]\n",
    "    \n",
    "    #⇡リスト内包表記のほうが速いらしい         \n",
    "    #for i in range(N+1):\n",
    "    #    stock.append([])\n",
    "    #    for j in range(0,N+1):\n",
    "    #        stock[i].append([])\n",
    "     \n",
    "    for i in range(N+1):\n",
    "        for j in range(N+1):\n",
    "            #index\n",
    "            stock[i][0] = i\n",
    "            #node_num\n",
    "            stock[i][1] = num[0:i+1]\n",
    "            #up_times\n",
    "            stock[i][2] = num[i::-1]\n",
    "            #down_times\n",
    "            stock[i][3] = num[0:i+1]\n",
    "            #theta\n",
    "            stock[i][4] = theta\n",
    "            #prob\n",
    "            stock[i][5] = p\n",
    "            #up_r\n",
    "            stock[i][6] = list(map(lambda x: 0 if x==0 else u**x, num[0:i+1]))\n",
    "            #down_r\n",
    "            stock[i][7] = list(map(lambda x: 0 if x==0 else d**x, num[i::-1]))\n",
    "            #price\n",
    "            stock[i][8] = list(map(lambda x, y: price_x if x==0 and y==0 else (price_x*x)+(price_x*y) if x==0 or y==0 else (price_x*x*y), stock[i][6], stock[i][7]))\n",
    "            #value\n",
    "            stock[i][9] = val[i]\n",
    "\n",
    "            #Wealth\n",
    "            stock[i][10] = list(map(lambda x: (M**((10)-i))*((1-(1/theta))**(-1))*(x)**(1-(1/theta)), stock[i][9]))\n",
    "            \n",
    "            #Utility\n",
    "            stock[i][11] = list(map(lambda x: (1-1/theta)**(-1)*x**(1-1/theta), stock[i][9]))\n",
    "            #Exp_value\n",
    "            \n",
    "            stock[i][12] = list(map(lambda  l, m, n : comb(i, l, exact=True)*(p**l)*((1-p)**m)*n if (l!=0 and m!=0) \\\n",
    "                                 else (p**l)*n if m==0 \\\n",
    "                                 else ((1-p)**m)*n if l==0 \\\n",
    "                                 else nan \\\n",
    "                                , stock[i][2], stock[i][3], stock[i][11]))\n",
    "            \n",
    "            stock[i][13] = list(map(lambda  l, m, n : comb(i, l, exact=True)*(p**l)*((1-p)**m)*n if (l!=0 and m!=0) \\\n",
    "                                 else (p**l)*n if m==0 \\\n",
    "                                 else ((1-p)**m)*n if l==0 \\\n",
    "                                 else nan \\\n",
    "                                , stock[i][2], stock[i][3], stock[i][10]))\n",
    "    df = pd.DataFrame(stock)\n",
    "    df = df.set_index(0)\n",
    "    df.columns = [\"node_num\", \"up_times\", \"down_times\", \"theta\", \"prob\", \"up_r\", \"down_r\", \"price\", \"value\", \"wealth\", \"utility\", \"Exp_val\", \"Wn\"]\n",
    "    \n",
    "    \n",
    "    return np.sum(df[\"Exp_val\"][10]), df[\"wealth\"][0][0], math.pow(df[\"Wn\"][0][0]*(1-(1/theta)), 1/(1-(1/theta)))"
   ]
  },
  {
   "cell_type": "code",
   "execution_count": 18,
   "metadata": {},
   "outputs": [
    {
     "ename": "TypeError",
     "evalue": "'float' object is not iterable",
     "output_type": "error",
     "traceback": [
      "\u001b[0;31m---------------------------------------------------------------------------\u001b[0m",
      "\u001b[0;31mTypeError\u001b[0m                                 Traceback (most recent call last)",
      "\u001b[0;32m<ipython-input-18-b3c06a1c8760>\u001b[0m in \u001b[0;36m<module>\u001b[0;34m()\u001b[0m\n\u001b[0;32m----> 1\u001b[0;31m \u001b[0mtmp\u001b[0m\u001b[0;34m(\u001b[0m\u001b[0;36m13\u001b[0m\u001b[0;34m,\u001b[0m \u001b[0;36m2.0\u001b[0m\u001b[0;34m,\u001b[0m \u001b[0;36m1.2\u001b[0m\u001b[0;34m,\u001b[0m \u001b[0;36m0.8\u001b[0m\u001b[0;34m,\u001b[0m \u001b[0;36m0.4\u001b[0m\u001b[0;34m,\u001b[0m \u001b[0;36m100\u001b[0m\u001b[0;34m,\u001b[0m \u001b[0;36m500\u001b[0m\u001b[0;34m)\u001b[0m\u001b[0;34m\u001b[0m\u001b[0m\n\u001b[0m",
      "\u001b[0;32m<ipython-input-17-f29973bc5ad5>\u001b[0m in \u001b[0;36mtmp\u001b[0;34m(N, theta, u, d, p, price_x, default_x)\u001b[0m\n\u001b[1;32m     39\u001b[0m \u001b[0;34m\u001b[0m\u001b[0m\n\u001b[1;32m     40\u001b[0m             \u001b[0;31m#Wealth\u001b[0m\u001b[0;34m\u001b[0m\u001b[0;34m\u001b[0m\u001b[0m\n\u001b[0;32m---> 41\u001b[0;31m             \u001b[0mstock\u001b[0m\u001b[0;34m[\u001b[0m\u001b[0mi\u001b[0m\u001b[0;34m]\u001b[0m\u001b[0;34m[\u001b[0m\u001b[0;36m10\u001b[0m\u001b[0;34m]\u001b[0m \u001b[0;34m=\u001b[0m \u001b[0mlist\u001b[0m\u001b[0;34m(\u001b[0m\u001b[0mmap\u001b[0m\u001b[0;34m(\u001b[0m\u001b[0;32mlambda\u001b[0m \u001b[0mx\u001b[0m\u001b[0;34m:\u001b[0m \u001b[0;34m(\u001b[0m\u001b[0mM\u001b[0m\u001b[0;34m**\u001b[0m\u001b[0;34m(\u001b[0m\u001b[0;34m(\u001b[0m\u001b[0;36m10\u001b[0m\u001b[0;34m)\u001b[0m\u001b[0;34m-\u001b[0m\u001b[0mi\u001b[0m\u001b[0;34m)\u001b[0m\u001b[0;34m)\u001b[0m\u001b[0;34m*\u001b[0m\u001b[0;34m(\u001b[0m\u001b[0;34m(\u001b[0m\u001b[0;36m1\u001b[0m\u001b[0;34m-\u001b[0m\u001b[0;34m(\u001b[0m\u001b[0;36m1\u001b[0m\u001b[0;34m/\u001b[0m\u001b[0mtheta\u001b[0m\u001b[0;34m)\u001b[0m\u001b[0;34m)\u001b[0m\u001b[0;34m**\u001b[0m\u001b[0;34m(\u001b[0m\u001b[0;34m-\u001b[0m\u001b[0;36m1\u001b[0m\u001b[0;34m)\u001b[0m\u001b[0;34m)\u001b[0m\u001b[0;34m*\u001b[0m\u001b[0;34m(\u001b[0m\u001b[0mx\u001b[0m\u001b[0;34m)\u001b[0m\u001b[0;34m**\u001b[0m\u001b[0;34m(\u001b[0m\u001b[0;36m1\u001b[0m\u001b[0;34m-\u001b[0m\u001b[0;34m(\u001b[0m\u001b[0;36m1\u001b[0m\u001b[0;34m/\u001b[0m\u001b[0mtheta\u001b[0m\u001b[0;34m)\u001b[0m\u001b[0;34m)\u001b[0m\u001b[0;34m,\u001b[0m \u001b[0mstock\u001b[0m\u001b[0;34m[\u001b[0m\u001b[0mi\u001b[0m\u001b[0;34m]\u001b[0m\u001b[0;34m[\u001b[0m\u001b[0;36m9\u001b[0m\u001b[0;34m]\u001b[0m\u001b[0;34m)\u001b[0m\u001b[0;34m)\u001b[0m\u001b[0;34m\u001b[0m\u001b[0m\n\u001b[0m\u001b[1;32m     42\u001b[0m \u001b[0;34m\u001b[0m\u001b[0m\n\u001b[1;32m     43\u001b[0m             \u001b[0;31m#Utility\u001b[0m\u001b[0;34m\u001b[0m\u001b[0;34m\u001b[0m\u001b[0m\n",
      "\u001b[0;31mTypeError\u001b[0m: 'float' object is not iterable"
     ]
    }
   ],
   "source": [
    "tmp(13, 2.0, 1.2, 0.8, 0.4, 100, 500)"
   ]
  },
  {
   "cell_type": "code",
   "execution_count": 19,
   "metadata": {},
   "outputs": [],
   "source": [
    "def backward(N, theta, u, d, p, price_x, default_x):\n",
    "    gamma = (1-1/theta)\n",
    "    K = (p*(u-1)/((1-p)*(1-d)))**(1/(1-gamma))\n",
    "    pi = (K-1)/(u-1+K*(1-d))\n",
    "    M = p*(1+pi*(u-1))**(1-(1/theta))+(1-p)*(1+pi*(d-1))**(1-(1/theta))\n",
    "    val = value(N+1, u, d, pi, default_x)\n",
    "    \n",
    "    num = [ i for i in range(N+1)]\n",
    "    stock = [[ [] for i in range(N+1) ] for j in range(N+1)]\n",
    "    \n",
    "    #⇡リスト内包表記のほうが速いらしい         \n",
    "    #for i in range(N+1):\n",
    "    #    stock.append([])\n",
    "    #    for j in range(0,N+1):\n",
    "    #        stock[i].append([])\n",
    "     \n",
    "    for i in range(N+1):\n",
    "        for j in range(N+1):\n",
    "            #index\n",
    "            stock[i][0] = i\n",
    "            #node_num\n",
    "            stock[i][1] = num[0:i+1]\n",
    "            #up_times\n",
    "            stock[i][2] = num[i::-1]\n",
    "            #down_times\n",
    "            stock[i][3] = num[0:i+1]\n",
    "            #theta\n",
    "            stock[i][4] = theta\n",
    "            #prob\n",
    "            stock[i][5] = p\n",
    "            #up_r\n",
    "            stock[i][6] = list(map(lambda x: 0 if x==0 else u**x, num[0:i+1]))\n",
    "            #down_r\n",
    "            stock[i][7] = list(map(lambda x: 0 if x==0 else d**x, num[i::-1]))\n",
    "            #price\n",
    "            stock[i][8] = list(map(lambda x, y: price_x if x==0 and y==0 else (price_x*x)+(price_x*y) if x==0 or y==0 else (price_x*x*y), stock[i][6], stock[i][7]))\n",
    "            #value\n",
    "            stock[i][9] = val[i]\n",
    "\n",
    "            #Wealth\n",
    "            stock[i][10] = list(map(lambda x: (M**((10)-i))*((1-(1/theta))**(-1))*(x)**(1-(1/theta)), stock[i][9]))\n",
    "            \n",
    "            #Utility\n",
    "            stock[i][11] = list(map(lambda x: (1-1/theta)**(-1)*x**(1-1/theta), stock[i][9]))\n",
    "            #Exp_value\n",
    "            \n",
    "            stock[i][12] = list(map(lambda  l, m, n : comb(i, l, exact=True)*(p**l)*((1-p)**m)*n if (l!=0 and m!=0) \\\n",
    "                                 else (p**l)*n if m==0 \\\n",
    "                                 else ((1-p)**m)*n if l==0 \\\n",
    "                                 else nan \\\n",
    "                                , stock[i][2], stock[i][3], stock[i][11]))\n",
    "            \n",
    "            stock[i][13] = list(map(lambda  l, m, n : comb(i, l, exact=True)*(p**l)*((1-p)**m)*n if (l!=0 and m!=0) \\\n",
    "                                 else (p**l)*n if m==0 \\\n",
    "                                 else ((1-p)**m)*n if l==0 \\\n",
    "                                 else nan \\\n",
    "                                , stock[i][2], stock[i][3], stock[i][10]))\n",
    "    df = pd.DataFrame(stock)\n",
    "    df = df.set_index(0)\n",
    "    df.columns = [\"node_num\", \"up_times\", \"down_times\", \"theta\", \"prob\", \"up_r\", \"down_r\", \"price\", \"value\", \"wealth\", \"utility\", \"Exp_val\", \"Wn\"]\n",
    "    \n",
    "    \n",
    "    return df[\"Exp_val\"][10]#np.sum(df[\"Exp_val\"][10]), df[\"wealth\"][0][0], math.pow(df[\"wealth\"][0][0]*(1-(1/theta)), 1/(1-(1/theta)))"
   ]
  },
  {
   "cell_type": "code",
   "execution_count": 24,
   "metadata": {},
   "outputs": [
    {
     "ename": "TypeError",
     "evalue": "'float' object is not iterable",
     "output_type": "error",
     "traceback": [
      "\u001b[0;31m---------------------------------------------------------------------------\u001b[0m",
      "\u001b[0;31mTypeError\u001b[0m                                 Traceback (most recent call last)",
      "\u001b[0;32m<ipython-input-24-f905f8411e57>\u001b[0m in \u001b[0;36m<module>\u001b[0;34m()\u001b[0m\n\u001b[0;32m----> 1\u001b[0;31m \u001b[0mbackward\u001b[0m\u001b[0;34m(\u001b[0m\u001b[0;36m10\u001b[0m\u001b[0;34m,\u001b[0m \u001b[0;36m1.2\u001b[0m\u001b[0;34m,\u001b[0m \u001b[0;36m1.2\u001b[0m\u001b[0;34m,\u001b[0m \u001b[0;36m0.8\u001b[0m\u001b[0;34m,\u001b[0m \u001b[0;36m0.4\u001b[0m\u001b[0;34m,\u001b[0m \u001b[0;36m100\u001b[0m\u001b[0;34m,\u001b[0m \u001b[0;36m100\u001b[0m\u001b[0;34m)\u001b[0m\u001b[0;34m\u001b[0m\u001b[0m\n\u001b[0m",
      "\u001b[0;32m<ipython-input-23-9e0fe06b23c9>\u001b[0m in \u001b[0;36mbackward\u001b[0;34m(N, theta, u, d, p, price_x, default_x)\u001b[0m\n\u001b[1;32m     39\u001b[0m \u001b[0;34m\u001b[0m\u001b[0m\n\u001b[1;32m     40\u001b[0m             \u001b[0;31m#Wealth\u001b[0m\u001b[0;34m\u001b[0m\u001b[0;34m\u001b[0m\u001b[0m\n\u001b[0;32m---> 41\u001b[0;31m             \u001b[0mstock\u001b[0m\u001b[0;34m[\u001b[0m\u001b[0mi\u001b[0m\u001b[0;34m]\u001b[0m\u001b[0;34m[\u001b[0m\u001b[0;36m10\u001b[0m\u001b[0;34m]\u001b[0m \u001b[0;34m=\u001b[0m \u001b[0mlist\u001b[0m\u001b[0;34m(\u001b[0m\u001b[0mmap\u001b[0m\u001b[0;34m(\u001b[0m\u001b[0;32mlambda\u001b[0m \u001b[0mx\u001b[0m\u001b[0;34m:\u001b[0m \u001b[0;34m(\u001b[0m\u001b[0mM\u001b[0m\u001b[0;34m**\u001b[0m\u001b[0;34m(\u001b[0m\u001b[0;34m(\u001b[0m\u001b[0;36m10\u001b[0m\u001b[0;34m)\u001b[0m\u001b[0;34m-\u001b[0m\u001b[0mi\u001b[0m\u001b[0;34m)\u001b[0m\u001b[0;34m)\u001b[0m\u001b[0;34m*\u001b[0m\u001b[0;34m(\u001b[0m\u001b[0;34m(\u001b[0m\u001b[0;36m1\u001b[0m\u001b[0;34m-\u001b[0m\u001b[0;34m(\u001b[0m\u001b[0;36m1\u001b[0m\u001b[0;34m/\u001b[0m\u001b[0mtheta\u001b[0m\u001b[0;34m)\u001b[0m\u001b[0;34m)\u001b[0m\u001b[0;34m**\u001b[0m\u001b[0;34m(\u001b[0m\u001b[0;34m-\u001b[0m\u001b[0;36m1\u001b[0m\u001b[0;34m)\u001b[0m\u001b[0;34m)\u001b[0m\u001b[0;34m*\u001b[0m\u001b[0;34m(\u001b[0m\u001b[0mx\u001b[0m\u001b[0;34m)\u001b[0m\u001b[0;34m**\u001b[0m\u001b[0;34m(\u001b[0m\u001b[0;36m1\u001b[0m\u001b[0;34m-\u001b[0m\u001b[0;34m(\u001b[0m\u001b[0;36m1\u001b[0m\u001b[0;34m/\u001b[0m\u001b[0mtheta\u001b[0m\u001b[0;34m)\u001b[0m\u001b[0;34m)\u001b[0m\u001b[0;34m,\u001b[0m \u001b[0mstock\u001b[0m\u001b[0;34m[\u001b[0m\u001b[0mi\u001b[0m\u001b[0;34m]\u001b[0m\u001b[0;34m[\u001b[0m\u001b[0;36m9\u001b[0m\u001b[0;34m]\u001b[0m\u001b[0;34m)\u001b[0m\u001b[0;34m)\u001b[0m\u001b[0;34m\u001b[0m\u001b[0m\n\u001b[0m\u001b[1;32m     42\u001b[0m \u001b[0;34m\u001b[0m\u001b[0m\n\u001b[1;32m     43\u001b[0m             \u001b[0;31m#Utility\u001b[0m\u001b[0;34m\u001b[0m\u001b[0;34m\u001b[0m\u001b[0m\n",
      "\u001b[0;31mTypeError\u001b[0m: 'float' object is not iterable"
     ]
    }
   ],
   "source": [
    "backward(10, 1.2, 1.2, 0.8, 0.4, 100, 100)"
   ]
  },
  {
   "cell_type": "code",
   "execution_count": null,
   "metadata": {},
   "outputs": [],
   "source": []
  }
 ],
 "metadata": {
  "kernelspec": {
   "display_name": "Python 3",
   "language": "python",
   "name": "python3"
  },
  "language_info": {
   "codemirror_mode": {
    "name": "ipython",
    "version": 3
   },
   "file_extension": ".py",
   "mimetype": "text/x-python",
   "name": "python",
   "nbconvert_exporter": "python",
   "pygments_lexer": "ipython3",
   "version": "3.6.5"
  }
 },
 "nbformat": 4,
 "nbformat_minor": 2
}
