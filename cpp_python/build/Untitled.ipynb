{
 "cells": [
  {
   "cell_type": "code",
   "execution_count": 1,
   "metadata": {},
   "outputs": [],
   "source": [
    "import numpy as np\n",
    "import pandas as pd\n",
    "import matplotlib.pyplot as plt\n",
    "from matplotlib import rc\n",
    "import seaborn as sns\n",
    "import backward as bk\n",
    "import forward as fw\n",
    "import math"
   ]
  },
  {
   "cell_type": "code",
   "execution_count": 2,
   "metadata": {},
   "outputs": [],
   "source": [
    "def backward_uniform_rand(N, theta, u, d, p, default_value, eps_left, eps_right):\n",
    "    pi = ((((p*(u-1))/((1-p)*(1-d)))**theta)-1)/((u - 1)+(((p*(u-1))/((1-p)*(1-d)))**theta)*(1 - d))\n",
    "    up_times = bk.up_times(N)\n",
    "    down_times = bk.down_times(N)\n",
    "    prm_theta = bk.prm_theta(N, theta)\n",
    "    \n",
    "    up_r = bk.up_r(N, u)\n",
    "    up_r_uniform_rand = list(map(lambda x,y: list(map(lambda a,b: a+b, x,y)), up_r, bk.uniform_rand(N, seed, eps_left, eps_right)))\n",
    "\n",
    "    \n",
    "    down_r = bk.down_r(N, d)\n",
    "    down_r_uniform_rand = list(map(lambda x,y: list(map(lambda a,b: a+b, x,y)), down_r, bk.uniform_rand(N, seed, eps_left, eps_right)))\n",
    "    \n",
    "    prob = bk.prob(N, p)\n",
    "    prm_M = bk.prm_M(N, pi, prm_theta, up_r_uniform_rand, down_r_uniform_rand, prob)\n",
    "    value = bk.value(N, pi, default_value, up_r_uniform_rand, down_r_uniform_rand)\n",
    "    wealth = bk.wealth(N, prm_theta, prm_M, value)\n",
    "    utility = bk.utility(N, prm_theta, value)\n",
    "    exp_utility = bk.exp_utility(N, up_times, down_times, prob, utility)\n",
    "    Wn = bk.Wn(N, up_times, down_times, prob, wealth)\n",
    "    \n",
    "    df_backward = pd.DataFrame([up_times, down_times, prm_theta, up_r_uniform_rand, down_r_uniform_rand, prob, prm_M, value, wealth, utility, exp_utility, Wn]).T\n",
    "    df_backward.columns = ['up_times', 'down_times', 'prm_theta', 'up_r', 'down_r', 'prob', 'prm_M', 'value', 'wealth', 'utility', 'exp_utility', 'Wn']\n",
    "    \n",
    "    return df_backward#df_backward['exp_utility'][N], df_backward['wealth'][0] "
   ]
  },
  {
   "cell_type": "code",
   "execution_count": 3,
   "metadata": {},
   "outputs": [],
   "source": [
    "def forward_uniform_rand(N, theta, u, d, p, default_value, eps_left, eps_right):\n",
    "    up_times = fw.up_times(N)\n",
    "    down_times = fw.down_times(N)\n",
    "    prm_theta = fw.prm_theta(N, theta)\n",
    "    \n",
    "    up_r = fw.up_r(N, u)\n",
    "    up_r_uniform_rand = list(map(lambda x,y: list(map(lambda a,b: a+b, x,y)), up_r, fw.uniform_rand(N, seed, eps_left, eps_right)))\n",
    "    \n",
    "    down_r = fw.down_r(N, d)\n",
    "    down_r_uniform_rand = list(map(lambda x,y: list(map(lambda a,b: a+b, x,y)), down_r, fw.uniform_rand(N, seed, eps_left, eps_right)))\n",
    "    \n",
    "    prob = fw.prob(N, p)\n",
    "    prm_q = fw.prm_q(N, up_r_uniform_rand, down_r_uniform_rand)\n",
    "    prm_a = fw.prm_a(N, prob, prm_q)\n",
    "    prm_b = fw.prm_b(N, prm_q)\n",
    "    prm_c = fw.prm_c(N, prob, prm_q)\n",
    "    delta = fw.delta(N, prm_theta, prm_a, prm_b, prm_c)\n",
    "    pi = fw.pi(N, prm_theta, up_r_uniform_rand, prob, prm_q, delta)\n",
    "    value = fw.value(N, default_value, up_r_uniform_rand, down_r_uniform_rand, pi)\n",
    "    U0 = fw.U0(N, prm_theta, value)\n",
    "    I0 = fw.I0(N, prm_theta, value)\n",
    "    I1 = fw.I1(N, delta, I0)\n",
    "    U1 = fw.U1(N, prm_theta, delta, U0)\n",
    "    exp_U1 = fw.exp_U1(N, up_times, down_times, prob, U1)\n",
    "    \n",
    "    df_forward = pd.DataFrame([up_times, down_times, prm_theta, up_r_uniform_rand, down_r_uniform_rand, prob, prm_q, prm_a, prm_b, prm_c, delta, pi, value, U0, I0, I1, U1, exp_U1]).T\n",
    "    df_forward.columns = ['up_times', 'down_times', 'prm_theta', 'up_r', 'down_r', 'prob', 'prm_q', 'prm_a', 'prm_b', 'prm_c', 'delta', 'pi', 'value', 'U0', 'I0', 'I1', 'U1', 'exp_U1']\n",
    "    \n",
    "    return df_forward#df_forward[\"exp_U1\"][N]"
   ]
  },
  {
   "cell_type": "code",
   "execution_count": 4,
   "metadata": {},
   "outputs": [],
   "source": [
    "seed = 12345\n",
    "N = 10\n",
    "theta = 1.2\n",
    "u = 1.2\n",
    "d = 0.8\n",
    "p = 0.4\n",
    "default_value = 500\n",
    "eps_left = -0.01\n",
    "eps_right = 0.01"
   ]
  },
  {
   "cell_type": "code",
   "execution_count": 9,
   "metadata": {},
   "outputs": [
    {
     "data": {
      "text/plain": [
       "0.008474763104008298"
      ]
     },
     "execution_count": 9,
     "metadata": {},
     "output_type": "execute_result"
    }
   ],
   "source": [
    "backward_uniform_rand(N, theta, u, d, p, default_value, eps_left, eps_right)[\"up_r\"][3][0]-1.2"
   ]
  },
  {
   "cell_type": "code",
   "execution_count": 9,
   "metadata": {},
   "outputs": [
    {
     "data": {
      "text/plain": [
       "[1.2084747631040083,\n",
       " 1.1974784235458305,\n",
       " 1.1930994671147948,\n",
       " 1.2078468745329776,\n",
       " 1.1905357945522355,\n",
       " 1.1958300477732362,\n",
       " 1.197974880720053,\n",
       " 1.20614577416004]"
      ]
     },
     "execution_count": 9,
     "metadata": {},
     "output_type": "execute_result"
    }
   ],
   "source": [
    "forward_uniform_rand(N, theta, u, d, p, default_value, eps_left, eps_right)[\"up_r\"][3]"
   ]
  },
  {
   "cell_type": "code",
   "execution_count": 10,
   "metadata": {},
   "outputs": [
    {
     "data": {
      "text/plain": [
       "0.00847476310400841"
      ]
     },
     "execution_count": 10,
     "metadata": {},
     "output_type": "execute_result"
    }
   ],
   "source": [
    "backward_uniform_rand(N, theta, u, d, p, default_value, eps_left, eps_right)[\"down_r\"][3][0]-0.8"
   ]
  },
  {
   "cell_type": "code",
   "execution_count": null,
   "metadata": {},
   "outputs": [],
   "source": []
  }
 ],
 "metadata": {
  "kernelspec": {
   "display_name": "Python 3",
   "language": "python",
   "name": "python3"
  },
  "language_info": {
   "codemirror_mode": {
    "name": "ipython",
    "version": 3
   },
   "file_extension": ".py",
   "mimetype": "text/x-python",
   "name": "python",
   "nbconvert_exporter": "python",
   "pygments_lexer": "ipython3",
   "version": "3.6.5"
  },
  "latex_envs": {
   "LaTeX_envs_menu_present": true,
   "autoclose": false,
   "autocomplete": true,
   "bibliofile": "biblio.bib",
   "cite_by": "apalike",
   "current_citInitial": 1,
   "eqLabelWithNumbers": true,
   "eqNumInitial": 1,
   "hotkeys": {
    "equation": "Ctrl-E",
    "itemize": "Ctrl-I"
   },
   "labels_anchors": false,
   "latex_user_defs": false,
   "report_style_numbering": false,
   "user_envs_cfg": false
  }
 },
 "nbformat": 4,
 "nbformat_minor": 2
}
